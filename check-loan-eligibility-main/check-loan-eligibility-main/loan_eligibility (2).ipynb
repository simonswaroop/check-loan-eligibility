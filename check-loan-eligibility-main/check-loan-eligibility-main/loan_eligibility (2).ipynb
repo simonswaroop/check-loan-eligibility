{
  "cells": [
    {
      "cell_type": "code",
      "execution_count": null,
      "metadata": {
        "colab": {
          "base_uri": "https://localhost:8080/"
        },
        "id": "KrtF9Jjn55Te",
        "outputId": "a63de2bd-deee-4bd7-cf07-17e7b207c399"
      },
      "outputs": [
        {
          "ename": "",
          "evalue": "",
          "output_type": "error",
          "traceback": [
            "\u001b[1;31mRunning cells with 'c:\\Users\\aditi\\AppData\\Local\\Programs\\Python\\Python311\\python.exe' requires the ipykernel package.\n",
            "\u001b[1;31mRun the following command to install 'ipykernel' into the Python environment. \n",
            "\u001b[1;31mCommand: 'c:/Users/aditi/AppData/Local/Programs/Python/Python311/python.exe -m pip install ipykernel -U --user --force-reinstall'"
          ]
        }
      ],
      "source": [
        "pip install gradio\n"
      ]
    },
    {
      "cell_type": "markdown",
      "metadata": {},
      "source": []
    },
    {
      "cell_type": "code",
      "execution_count": null,
      "metadata": {
        "id": "DfeZvY8X65j5"
      },
      "outputs": [
        {
          "ename": "",
          "evalue": "",
          "output_type": "error",
          "traceback": [
            "\u001b[1;31mRunning cells with 'c:\\Users\\aditi\\AppData\\Local\\Programs\\Python\\Python311\\python.exe' requires the ipykernel package.\n",
            "\u001b[1;31mRun the following command to install 'ipykernel' into the Python environment. \n",
            "\u001b[1;31mCommand: 'c:/Users/aditi/AppData/Local/Programs/Python/Python311/python.exe -m pip install ipykernel -U --user --force-reinstall'"
          ]
        }
      ],
      "source": [
        "import gradio as gr"
      ]
    },
    {
      "cell_type": "code",
      "execution_count": null,
      "metadata": {
        "id": "UI7Y6XKs7ByW"
      },
      "outputs": [],
      "source": [
        "def loan_or_not(income,credit_score,expenses,loan_amount,years_in_job,credit_cardpayments,criminal_record):\n",
        "  if income<30000:\n",
        "    c=1;\n",
        "  elif 30000<=income<=90000:\n",
        "    c=2;\n",
        "  else:\n",
        "    c=3;\n",
        "  if credit_score>=350:\n",
        "    if c==1:\n",
        "      if criminal_record==\"YES\" or \"yes\":\n",
        "        return(\"Sorry you are not eligible for the loan\");\n",
        "      else:\n",
        "        return(\"You are eligible for the loan\");\n",
        "    elif c==2:\n",
        "      if years_in_job<1:\n",
        "        return(\"Sorry you are not eligible for the loan\")\n",
        "      if years_in_job<2:\n",
        "        if (credit_cardpayments==\"yes\" and \"YES\") or (expenses>0.8*loan_amount):\n",
        "          return(\"Sorry you are not eligible for the loan\");\n",
        "        else:\n",
        "          return(\"You are eligible for the loan\");\n",
        "      elif 2<years_in_job<5:\n",
        "        if expenses>0.8*loan_amount:\n",
        "          return(\"Sorry You are not eligible for the loan\");\n",
        "        else:\n",
        "          return(\"You are eligible for the loan\");\n",
        "      else:\n",
        "        return(\"You are eligible for the loan\");\n",
        "    elif c==3:\n",
        "      if criminal_record==\"YES\" or \"yes\":\n",
        "        return(\"Sorry you are not eligible for the loan\");\n",
        "      else:\n",
        "        return(\"You are eligible for the loan\");\n",
        "  else:\n",
        "    return(\"Sorry You are not eligible for the loan\");"
      ]
    },
    {
      "cell_type": "code",
      "execution_count": null,
      "metadata": {
        "colab": {
          "base_uri": "https://localhost:8080/"
        },
        "id": "nVMflC5H8Kof",
        "outputId": "a2019079-9081-4859-9906-d25ef2fa3ddc"
      },
      "outputs": [],
      "source": [
        "interface = gr.Interface(\n",
        "    fn=loan_or_not,\n",
        "    inputs=[gr.inputs.Slider(0,100000,label=\"income\"), gr.inputs.Slider(0,1000,label=\"credit_score\") , gr.inputs.Slider(0,100000,label=\"expenses\"), gr.inputs.Slider(0,200000,label=\"loan_amount\"), gr.inputs.Slider(0,20,label=\"Years in present job\"),\"text\",\"text\" ],\n",
        "    outputs=[\"text\"]\n",
        ")"
      ]
    },
    {
      "cell_type": "code",
      "execution_count": null,
      "metadata": {
        "colab": {
          "base_uri": "https://localhost:8080/",
          "height": 614
        },
        "id": "2kHnFKC08gM-",
        "outputId": "28f349fb-d910-46f4-b229-b723a049472a"
      },
      "outputs": [],
      "source": [
        "interface.launch()"
      ]
    },
    {
      "cell_type": "code",
      "execution_count": null,
      "metadata": {
        "id": "kbh6R2nmXgZm"
      },
      "outputs": [],
      "source": []
    }
  ],
  "metadata": {
    "colab": {
      "provenance": []
    },
    "kernelspec": {
      "display_name": "Python 3",
      "name": "python3"
    },
    "language_info": {
      "name": "python",
      "version": "3.11.4"
    }
  },
  "nbformat": 4,
  "nbformat_minor": 0
}
